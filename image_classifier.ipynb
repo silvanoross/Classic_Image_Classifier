{
 "cells": [
  {
   "cell_type": "code",
   "execution_count": 2,
   "id": "62701979-4361-4faf-bb3b-0a85b90e1d7c",
   "metadata": {},
   "outputs": [],
   "source": [
    "# import libraries\n",
    "from sklearn.datasets import fetch_openml\n",
    "\n",
    "# load dataset\n",
    "mnist = fetch_openml('mnist_784', as_frame=False)"
   ]
  },
  {
   "cell_type": "code",
   "execution_count": 3,
   "id": "07ec08b6-37f8-461b-b112-e6770d6de23d",
   "metadata": {},
   "outputs": [
    {
     "data": {
      "text/plain": [
       "array([[0., 0., 0., ..., 0., 0., 0.],\n",
       "       [0., 0., 0., ..., 0., 0., 0.],\n",
       "       [0., 0., 0., ..., 0., 0., 0.],\n",
       "       ...,\n",
       "       [0., 0., 0., ..., 0., 0., 0.],\n",
       "       [0., 0., 0., ..., 0., 0., 0.],\n",
       "       [0., 0., 0., ..., 0., 0., 0.]])"
      ]
     },
     "execution_count": 3,
     "metadata": {},
     "output_type": "execute_result"
    }
   ],
   "source": [
    "# create features and targets\n",
    "X, y = mnist.data, mnist.target\n",
    "#review\n",
    "X"
   ]
  },
  {
   "cell_type": "code",
   "execution_count": 4,
   "id": "e443b7ed-3af7-4f33-a585-70db9118f8f8",
   "metadata": {},
   "outputs": [
    {
     "data": {
      "text/plain": [
       "(70000, 784)"
      ]
     },
     "execution_count": 4,
     "metadata": {},
     "output_type": "execute_result"
    }
   ],
   "source": [
    "X.shape # 70000 images with 784 features = 28 * 28 pixels"
   ]
  },
  {
   "cell_type": "code",
   "execution_count": 5,
   "id": "d19d9403-4575-4f83-bcd8-40f94f2b960a",
   "metadata": {},
   "outputs": [
    {
     "data": {
      "text/plain": [
       "(70000,)"
      ]
     },
     "execution_count": 5,
     "metadata": {},
     "output_type": "execute_result"
    }
   ],
   "source": [
    "y.shape"
   ]
  },
  {
   "cell_type": "code",
   "execution_count": 8,
   "id": "7f0e0539-22f7-425c-9182-7bd71f431865",
   "metadata": {},
   "outputs": [
    {
     "data": {
      "image/png": "[encoded data removed]",
      "text/plain": [
       "<Figure size 640x480 with 1 Axes>"
      ]
     },
     "metadata": {},
     "output_type": "display_data"
    }
   ],
   "source": [
    "# look at one digit\n",
    "import matplotlib.pyplot as plt\n",
    "\n",
    "def plot_image(image_data):\n",
    "    image = image_data.reshape(28, 28)\n",
    "    plt.imshow(image, cmap=\"binary\")\n",
    "    plt.axis(\"off\")\n",
    "\n",
    "some_digit = X[0]\n",
    "plot_image(some_digit)\n",
    "plt.show()"
   ]
  },
  {
   "cell_type": "code",
   "execution_count": 9,
   "id": "b16ced11-6346-478b-a789-139b346456b4",
   "metadata": {},
   "outputs": [
    {
     "data": {
      "text/plain": [
       "'5'"
      ]
     },
     "execution_count": 9,
     "metadata": {},
     "output_type": "execute_result"
    }
   ],
   "source": [
    "# verify what target is \n",
    "y[0]"
   ]
  },
  {
   "cell_type": "code",
   "execution_count": 11,
   "id": "780a0bc2-5543-48de-8a57-7f9529d0ffb2",
   "metadata": {},
   "outputs": [],
   "source": [
    "# manually split training and testing data\n",
    "X_train, X_test, y_train, y_test = X[:60000], X[60000:], y[:60000], y[60000:]"
   ]
  },
  {
   "cell_type": "markdown",
   "id": "750c7478-691f-4788-83b5-e17a6d9b4fa2",
   "metadata": {},
   "source": [
    "##### Begin Training a Binary Classifier"
   ]
  },
  {
   "cell_type": "code",
   "execution_count": 12,
   "id": "6f4aa597-fde7-48a4-9e32-32ecbaae5690",
   "metadata": {},
   "outputs": [],
   "source": [
    "# create target vector for 5\n",
    "y_train_5 = (y_train == '5')\n",
    "y_test_5 = (y_test == '5')"
   ]
  },
  {
   "cell_type": "code",
   "execution_count": 16,
   "id": "6586d178-0e8e-4028-b303-30798a406223",
   "metadata": {},
   "outputs": [
    {
     "name": "stdout",
     "output_type": "stream",
     "text": [
      "[ True]\n"
     ]
    }
   ],
   "source": [
    "# import stochastic gradient descent model\n",
    "from sklearn.linear_model import SGDClassifier\n",
    "\n",
    "# create and fit model\n",
    "sgd_clf = SGDClassifier(random_state=42)\n",
    "sgd_clf.fit(X_train, y_train_5)\n",
    "\n",
    "# predict if our digit from earlier is 5\n",
    "pred_5 = sgd_clf.predict([some_digit])\n",
    "print(pred_5)"
   ]
  },
  {
   "cell_type": "markdown",
   "id": "1ead9ebd-2901-4aee-a7ba-36ec1917033d",
   "metadata": {},
   "source": [
    "##### Get Performance Measures"
   ]
  },
  {
   "cell_type": "code",
   "execution_count": 17,
   "id": "6906999d-79ec-46a7-b114-b082c00b37b7",
   "metadata": {},
   "outputs": [
    {
     "name": "stdout",
     "output_type": "stream",
     "text": [
      "[0.95035 0.96035 0.9604 ]\n"
     ]
    }
   ],
   "source": [
    "from sklearn.model_selection import cross_val_score\n",
    "print(cross_val_score(sgd_clf, X_train, y_train_5, cv=3, scoring=\"accuracy\"))"
   ]
  },
  {
   "cell_type": "markdown",
   "id": "1f063c6a-f04d-45ff-b3de-1ede9badb407",
   "metadata": {},
   "source": [
    "This model is ~95% accurate on the training data. It seems overfit. How can we ge sure this is real and not do to a data imbalance or somethin else."
   ]
  },
  {
   "cell_type": "code",
   "execution_count": 19,
   "id": "47564e61-6038-4083-b8d7-05a59a95c863",
   "metadata": {},
   "outputs": [
    {
     "name": "stdout",
     "output_type": "stream",
     "text": [
      "False\n",
      "[0.90965 0.90965 0.90965]\n"
     ]
    }
   ],
   "source": [
    "# test using a dummy classifier\n",
    "from sklearn.dummy import DummyClassifier\n",
    "\n",
    "dummy_clf = DummyClassifier()\n",
    "dummy_clf.fit(X_train, y_train_5)\n",
    "print(any(dummy_clf.predict(X_train))) # if no 5s detected it will print false\n",
    "print(cross_val_score(dummy_clf, X_train, y_train_5, cv=3, scoring=\"accuracy\"))"
   ]
  },
  {
   "cell_type": "markdown",
   "id": "3ab5decc-d905-4e8c-9db6-4592fed0a71b",
   "metadata": {},
   "source": [
    "Just guessing not 5 every time will give you an accuracy of 90% due to only 10% of the data being actual 5s."
   ]
  },
  {
   "cell_type": "markdown",
   "id": "ef5bbb5e-4327-4793-b549-00b87d3d7fe6",
   "metadata": {},
   "source": [
    "##### Confusion Matrix Metric"
   ]
  },
  {
   "cell_type": "code",
   "execution_count": 20,
   "id": "be420d16-dec7-4eb1-be2b-27048399c04b",
   "metadata": {},
   "outputs": [
    {
     "data": {
      "text/plain": [
       "array([[53892,   687],\n",
       "       [ 1891,  3530]], dtype=int64)"
      ]
     },
     "execution_count": 20,
     "metadata": {},
     "output_type": "execute_result"
    }
   ],
   "source": [
    "from sklearn.model_selection import cross_val_predict\n",
    "from sklearn.metrics  import confusion_matrix\n",
    "\n",
    "# create training prediction\n",
    "y_train_pred = cross_val_predict(sgd_clf, X_train, y_train_5, cv=3)\n",
    "\n",
    "# create confusion matrix\n",
    "cm = confusion_matrix(y_train_5, y_train_pred)\n",
    "cm"
   ]
  },
  {
   "cell_type": "code",
   "execution_count": 22,
   "id": "698f6f91-1ddc-4bde-8035-d8e1acf22cc3",
   "metadata": {},
   "outputs": [
    {
     "data": {
      "text/plain": [
       "array([[54579,     0],\n",
       "       [    0,  5421]], dtype=int64)"
      ]
     },
     "execution_count": 22,
     "metadata": {},
     "output_type": "execute_result"
    }
   ],
   "source": [
    "# create perfect predictions\n",
    "y_train_perfect_pred = y_train_5\n",
    "# show what a confusion matrix would look like with perfect predictions\n",
    "cm_perf = confusion_matrix(y_train_5, y_train_perfect_pred)\n",
    "cm_perf"
   ]
  },
  {
   "cell_type": "markdown",
   "id": "3eee8e2a-ddc8-4369-9be5-368c2749bc34",
   "metadata": {},
   "source": [
    "##### Precision and Recall"
   ]
  },
  {
   "cell_type": "markdown",
   "id": "8c6ac0de-b7d3-47dd-8233-edfbce7e9432",
   "metadata": {},
   "source": [
    "Accuracy of positive predictions is called precision\n",
    "\n",
    "$P = \\frac{TP}{TP+FP}$\n",
    "\n",
    "Sensitivity or Recall is the ratio of positive instances correctly detected by the classifier\n",
    "\n",
    "$recall = \\frac{TP}{TP+FN}$"
   ]
  },
  {
   "cell_type": "code",
   "execution_count": 24,
   "id": "f412360c-2157-4e37-bac3-5aa139926637",
   "metadata": {},
   "outputs": [
    {
     "name": "stdout",
     "output_type": "stream",
     "text": [
      "precision score = 0.837088\n",
      "recall score = 0.651171\n"
     ]
    }
   ],
   "source": [
    "# sklearn has packages for this\n",
    "from sklearn.metrics import precision_score, recall_score\n",
    "precision = precision_score(y_train_5, y_train_pred)\n",
    "recall = recall_score(y_train_5, y_train_pred)\n",
    "print(\"precision score = %f\" %(precision))\n",
    "print(\"recall score = %f\" %(recall))"
   ]
  },
  {
   "cell_type": "markdown",
   "id": "42b54348-6b12-4df3-a4ef-c5f9b57c8bfb",
   "metadata": {},
   "source": [
    "Not actually as good as 95% accuracy. We can see precision and recall are lower than the plain accuracy of our classifier."
   ]
  },
  {
   "cell_type": "markdown",
   "id": "0a9fc8b4-0329-4c0d-b258-97cf98d4a903",
   "metadata": {},
   "source": [
    "##### F1 - Score\n",
    "\n",
    "$F_{1} = \\frac{2}{\\frac{1}{precision} + \\frac{1}{recall}}\\times \\frac{precision\\times recall}{precision + recall} = \\frac{TP}{TP + \\frac{FN + FP}{2}}$\n",
    "\n",
    "Combination of both precision and recall. This is the *harmonic mean* of precision and recall. This gives more weight to lower values meaning a high F1 score is only possible if both the precision and recall are both high."
   ]
  },
  {
   "cell_type": "code",
   "execution_count": 25,
   "id": "b9d86190-aa67-4fcf-a50b-d0ec24a60a20",
   "metadata": {},
   "outputs": [
    {
     "name": "stdout",
     "output_type": "stream",
     "text": [
      "F1 score is 0.732517\n"
     ]
    }
   ],
   "source": [
    "# compute F1 score\n",
    "from sklearn.metrics import f1_score\n",
    "print(\"F1 score is %f\" %(f1_score(y_train_5, y_train_pred)))"
   ]
  },
  {
   "cell_type": "markdown",
   "id": "ee0a80a6-eae6-42bb-95d8-462a41909baf",
   "metadata": {},
   "source": [
    "This is a more accurate reflection of how well our model performs. "
   ]
  },
  {
   "cell_type": "markdown",
   "id": "353d411b-7a9f-479a-beb5-ea3c1016e4fa",
   "metadata": {},
   "source": [
    "#####  Precision/Recall Tradeoff"
   ]
  },
  {
   "cell_type": "code",
   "execution_count": 27,
   "id": "a2ec6eaa-5aad-4864-9d47-5212c7591076",
   "metadata": {},
   "outputs": [
    {
     "name": "stdout",
     "output_type": "stream",
     "text": [
      "[2164.22030239]\n"
     ]
    },
    {
     "data": {
      "text/plain": [
       "array([ True])"
      ]
     },
     "execution_count": 27,
     "metadata": {},
     "output_type": "execute_result"
    }
   ],
   "source": [
    "# look at the decision function\n",
    "y_scores = sgd_clf.decision_function([some_digit])\n",
    "print(y_scores)\n",
    "threshold = 0\n",
    "y_some_digit_pred = (y_scores > threshold)\n",
    "y_some_digit_pred # will the score be greater than the threshold for detection"
   ]
  },
  {
   "cell_type": "code",
   "execution_count": 28,
   "id": "b145894c-5fbc-44ad-aa38-c71a4210a06e",
   "metadata": {},
   "outputs": [
    {
     "data": {
      "text/plain": [
       "array([False])"
      ]
     },
     "execution_count": 28,
     "metadata": {},
     "output_type": "execute_result"
    }
   ],
   "source": [
    "# if we set a higher threshold what will happen\n",
    "threshold = 3000\n",
    "y_some_digit_pred = (y_scores > threshold)\n",
    "y_some_digit_pred"
   ]
  },
  {
   "cell_type": "code",
   "execution_count": 34,
   "id": "8917611c-6d22-4f3e-ba43-e0a6fdca2cf9",
   "metadata": {},
   "outputs": [],
   "source": [
    "from sklearn.metrics import precision_recall_curve\n",
    "\n",
    "# modify our cross val score to use decision functions instead of accuracy\n",
    "y_scores = cross_val_predict(sgd_clf, X_train, y_train_5, cv=3, method=\"decision_function\")\n",
    "\n",
    "# get thresholds, precisions and recalls\n",
    "precisions, recalls, thresholds = precision_recall_curve(y_train_5, y_scores)"
   ]
  },
  {
   "cell_type": "code",
   "execution_count": 35,
   "id": "69882ba4-d361-4fd3-9cbe-8beabb98beef",
   "metadata": {},
   "outputs": [
    {
     "data": {
      "image/png": "[encoded data removed]",
      "text/plain": [
       "<Figure size 640x480 with 1 Axes>"
      ]
     },
     "metadata": {},
     "output_type": "display_data"
    }
   ],
   "source": [
    "# Plot the precision recall curve\n",
    "plt.plot(thresholds, precisions[:-1], \"b--\", label=\"Precision\", linewidth=2)\n",
    "plt.plot(thresholds, recalls[:-1], \"g-\", label=\"Recall\", linewidth=2)\n",
    "plt.vlines(threshold, 0, 1.0, \"k\", \"dotted\", label=\"threshold\")\n",
    "plt.show()"
   ]
  },
  {
   "cell_type": "code",
   "execution_count": 36,
   "id": "63e1d5c7-56e9-4200-bc53-bb1d1c81324c",
   "metadata": {},
   "outputs": [
    {
     "data": {
      "text/plain": [
       "[<matplotlib.lines.Line2D at 0x1ca5f5d3550>]"
      ]
     },
     "execution_count": 36,
     "metadata": {},
     "output_type": "execute_result"
    },
    {
     "data": {
      "image/png": "[encoded data removed]",
      "text/plain": [
       "<Figure size 640x480 with 1 Axes>"
      ]
     },
     "metadata": {},
     "output_type": "display_data"
    }
   ],
   "source": [
    "# plot the precision against recall\n",
    "plt.plot(recalls, precisions, linewidth=2, label=\"Precision/Recall curve\")"
   ]
  },
  {
   "cell_type": "code",
   "execution_count": null,
   "id": "0f8a5c38-cbeb-4572-b30a-13d30d0455fc",
   "metadata": {},
   "outputs": [],
   "source": []
  }
 ],
 "metadata": {
  "kernelspec": {
   "display_name": "Python 3 (ipykernel)",
   "language": "python",
   "name": "python3"
  },
  "language_info": {
   "codemirror_mode": {
    "name": "ipython",
    "version": 3
   },
   "file_extension": ".py",
   "mimetype": "text/x-python",
   "name": "python",
   "nbconvert_exporter": "python",
   "pygments_lexer": "ipython3",
   "version": "3.11.5"
  }
 },
 "nbformat": 4,
 "nbformat_minor": 5
}
